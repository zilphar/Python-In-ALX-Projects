{
 "cells": [
  {
   "cell_type": "markdown",
   "metadata": {},
   "source": [
    "<div align=\"center\" style=\" font-size: 80%; text-align: center; margin: 0 auto\">\n",
    "<img src=\"https://raw.githubusercontent.com/Explore-AI/Pictures/master/Python-Notebook-Banners/Exercise.png\"  style=\"display: block; margin-left: auto; margin-right: auto;\";/>\n",
    "</div>"
   ]
  },
  {
   "cell_type": "markdown",
   "metadata": {},
   "source": [
    "# Exercise: Linear sort and merge\n"
   ]
  },
  {
   "cell_type": "markdown",
   "metadata": {},
   "source": [
    "In this notebook, we utilise a merge sort algorithm to sort lists in linear time complexity.\n",
    "\n"
   ]
  },
  {
   "cell_type": "markdown",
   "metadata": {},
   "source": [
    "## Learning objectives\n",
    "\n",
    "In this train, we will:\n",
    "- Implement an algorithm that operates in linear time complexity, understanding the principles of efficiency and optimisation in algorithm design.\n",
    "- Apply an understanding of recursive algorithms to effectively merge two pre-sorted lists into a single sorted list."
   ]
  },
  {
   "cell_type": "markdown",
   "metadata": {},
   "source": [
    "## Exercises"
   ]
  },
  {
   "cell_type": "markdown",
   "metadata": {},
   "source": [
    "## Exercise 1\n",
    "\n",
    "Write a function named `linear_merge` that takes two lists as inputs. Both input lists are sorted in increasing order. \n",
    "\n",
    "The function should return a merged list of all the elements in sorted order.\n",
    "\n",
    "**Note:**\n",
    "- The solution should operate in linear time complexity. This means the function should ideally make only a single pass through each list.\n",
    "- Avoid using Python's built-in sorting functions, as they are slower than linear time."
   ]
  },
  {
   "cell_type": "code",
   "execution_count": 14,
   "metadata": {
    "tags": []
   },
   "outputs": [],
   "source": [
    "### START FUNCTION\n",
    "def linear_merge(list1, list2):    \n",
    "    # your code here\n",
    "    merge = []   # result merge starts as an empy list\n",
    "\n",
    "    # is list1 an list2 are not empty, check for the smalled value of the two and add that to the resule merge list\n",
    "    while list1 and list2 != []: \n",
    "        if list1[0] <= list2[0]:\n",
    "            merge = merge + [list1[0]]\n",
    "            list1 = list1[1:]  # then keep everything apart from index [0]\n",
    "        else:\n",
    "            merge = merge + [list2[0]]\n",
    "            list2 = list2[1:]\n",
    "\n",
    "    # if one of the lists goes empty and the other one still has values, \n",
    "    # then take those values either from left or right and dump or append them on the result merge list\n",
    "    while list1 != []:\n",
    "        merge = merge + [list1[0]]\n",
    "        list1 = list1[1:]\n",
    "\n",
    "    while list2 != []:\n",
    "        merge = merge + [list2[0]]\n",
    "        list2 = list2[1:]\n",
    "\n",
    "    return merge\n",
    "### END FUNCTION"
   ]
  },
  {
   "cell_type": "code",
   "execution_count": null,
   "metadata": {},
   "outputs": [
    {
     "data": {
      "text/plain": [
       "['aab', 'aac', 'aad', 'aae', 'aaf']"
      ]
     },
     "execution_count": 17,
     "metadata": {},
     "output_type": "execute_result"
    }
   ],
   "source": [
    "linear_merge(['aa', 'xx', 'zz'], ['bb', 'cc'])\n"
   ]
  },
  {
   "cell_type": "code",
   "execution_count": 18,
   "metadata": {},
   "outputs": [
    {
     "data": {
      "text/plain": [
       "['apple', 'searching', 'small', 'sorting', 'van']"
      ]
     },
     "execution_count": 18,
     "metadata": {},
     "output_type": "execute_result"
    }
   ],
   "source": [
    "linear_merge(['searching', 'sorting', 'van'], ['apple', 'small'])"
   ]
  },
  {
   "cell_type": "code",
   "execution_count": 19,
   "metadata": {},
   "outputs": [
    {
     "data": {
      "text/plain": [
       "['funny', 'giant', 'hello', 'world', 'zoo']"
      ]
     },
     "execution_count": 19,
     "metadata": {},
     "output_type": "execute_result"
    }
   ],
   "source": [
    "linear_merge(['hello', 'world'], ['funny', 'giant', 'zoo']) "
   ]
  },
  {
   "cell_type": "code",
   "execution_count": 20,
   "metadata": {},
   "outputs": [
    {
     "data": {
      "text/plain": [
       "['egg', 'patch', 'stall', 'tour', 'yak', 'zombie']"
      ]
     },
     "execution_count": 20,
     "metadata": {},
     "output_type": "execute_result"
    }
   ],
   "source": [
    "linear_merge(['patch', 'tour', 'yak', 'zombie'], ['egg', 'stall']) "
   ]
  },
  {
   "cell_type": "code",
   "execution_count": 21,
   "metadata": {},
   "outputs": [
    {
     "data": {
      "text/plain": [
       "['aab', 'aac', 'aad', 'aae', 'aaf']"
      ]
     },
     "execution_count": 21,
     "metadata": {},
     "output_type": "execute_result"
    }
   ],
   "source": [
    "linear_merge(['aab', 'aad', 'aaf'], ['aac', 'aae'])"
   ]
  },
  {
   "cell_type": "markdown",
   "metadata": {},
   "source": [
    "Test your code with all the _**expected outputs**_ below.\n",
    "\n",
    "**Expected outputs:** \n",
    "```python\n",
    "linear_merge(['aa', 'xx', 'zz'], ['bb', 'cc']) == ['aa', 'bb', 'cc', 'xx', 'zz']\n",
    "linear_merge(['searching', 'sorting', 'van'], ['apple', 'small']) == ['apple', 'searching', 'small', 'sorting', 'van']\n",
    "linear_merge(['hello', 'world'], ['funny', 'giant', 'zoo']) == ['funny', 'giant', 'hello', 'world', 'zoo']\n",
    "linear_merge(['patch', 'tour', 'yak', 'zombie'], ['egg', 'stall']) == ['egg', 'patch', 'stall', 'tour', 'yak', 'zombie']\n",
    "linear_merge(['aab', 'aad', 'aaf'], ['aac', 'aae']) == ['aab', 'aac', 'aad', 'aae', 'aaf']\n",
    "```"
   ]
  },
  {
   "cell_type": "markdown",
   "metadata": {},
   "source": [
    "## Solutions"
   ]
  },
  {
   "cell_type": "markdown",
   "metadata": {},
   "source": [
    "### Exercise 1"
   ]
  },
  {
   "cell_type": "markdown",
   "metadata": {},
   "source": [
    "<div align=\"center\" style=\" font-size: 80%; text-align: center; margin: 0 auto\">\n",
    "<img src=\"https://raw.githubusercontent.com/Explore-AI/Pictures/refs/heads/master/ALX_banners/ALX_Navy.png\" style=\"width:140px\";/>\n",
    "</div>"
   ]
  }
 ],
 "metadata": {
  "kernelspec": {
   "display_name": "Python 3",
   "language": "python",
   "name": "python3"
  },
  "language_info": {
   "codemirror_mode": {
    "name": "ipython",
    "version": 3
   },
   "file_extension": ".py",
   "mimetype": "text/x-python",
   "name": "python",
   "nbconvert_exporter": "python",
   "pygments_lexer": "ipython3",
   "version": "3.10.11"
  }
 },
 "nbformat": 4,
 "nbformat_minor": 4
}
