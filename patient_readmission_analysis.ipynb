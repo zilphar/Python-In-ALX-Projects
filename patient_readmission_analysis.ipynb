{
 "cells": [
  {
   "cell_type": "code",
   "execution_count": null,
   "id": "66c2dd86-acec-43d8-a8f6-04b438b9fc0d",
   "metadata": {},
   "outputs": [],
   "source": [
    "!pip install pandas"
   ]
  },
  {
   "cell_type": "code",
   "execution_count": null,
   "id": "d7c67bc1-8a2c-4484-9257-d67bb38feaf2",
   "metadata": {},
   "outputs": [],
   "source": [
    "import pandas as pd"
   ]
  },
  {
   "cell_type": "markdown",
   "id": "887d1cb4-82c1-498b-8c95-bcebb79a3b30",
   "metadata": {},
   "source": [
    "# Patient Readmission Analysis\n",
    "\n",
    "1. Problem statement:\n",
    "   - Hospital wants to know why patients are readmitted after discharge OR\n",
    "   - Why are patient readmitted OR\n",
    "   - Understand why the rate of readmission is increasing\n",
    "2. Clean the data\n",
    "3. Transform the data where necessary\n",
    "4. Analyse the data (what drives readmission)\n",
    "   - Get insights\n",
    "5. Make Recommendations"
   ]
  },
  {
   "cell_type": "code",
   "execution_count": null,
   "id": "4b07183f-22b6-4134-98d7-a3f0df7345ba",
   "metadata": {},
   "outputs": [],
   "source": [
    "df = pd.read_csv('patient_readmission.csv')"
   ]
  },
  {
   "cell_type": "code",
   "execution_count": null,
   "id": "1c225d56-cfff-46c3-b3e7-7ff785edc5b2",
   "metadata": {},
   "outputs": [],
   "source": [
    "df.shape"
   ]
  },
  {
   "cell_type": "code",
   "execution_count": null,
   "id": "ac308b5b-3d12-40d6-b697-05a53ea898da",
   "metadata": {},
   "outputs": [],
   "source": [
    "df.head()"
   ]
  },
  {
   "cell_type": "markdown",
   "id": "c6d605d2-d3cd-4492-a155-219481ffde43",
   "metadata": {},
   "source": [
    "## Exploring the Data"
   ]
  },
  {
   "cell_type": "code",
   "execution_count": null,
   "id": "3218e259-2383-4973-9e80-f6f924532b74",
   "metadata": {},
   "outputs": [],
   "source": [
    "df.info()"
   ]
  },
  {
   "cell_type": "code",
   "execution_count": 116,
   "id": "b0d2e56a-1fc1-4c36-a406-544f7b9a9b50",
   "metadata": {},
   "outputs": [
    {
     "data": {
      "text/plain": [
       "False"
      ]
     },
     "execution_count": 116,
     "metadata": {},
     "output_type": "execute_result"
    }
   ],
   "source": [
    "# check for duplicates\n",
    "df.duplicated().any()"
   ]
  },
  {
   "cell_type": "code",
   "execution_count": 117,
   "id": "e79a27b0-a654-4864-b1d9-ac2480ad778d",
   "metadata": {},
   "outputs": [
    {
     "data": {
      "text/plain": [
       "0"
      ]
     },
     "execution_count": 117,
     "metadata": {},
     "output_type": "execute_result"
    }
   ],
   "source": [
    "df.duplicated().sum()"
   ]
  },
  {
   "cell_type": "code",
   "execution_count": null,
   "id": "acd3c136-a3af-41d7-8d4e-5a61833cf97d",
   "metadata": {},
   "outputs": [],
   "source": [
    "df[df.duplicated()]"
   ]
  },
  {
   "cell_type": "code",
   "execution_count": null,
   "id": "7453c4c7-41b8-40ad-bc1c-259f8262fbb4",
   "metadata": {},
   "outputs": [],
   "source": [
    "df.drop_duplicates(inplace=True)"
   ]
  },
  {
   "cell_type": "code",
   "execution_count": null,
   "id": "dda5307b-3955-4142-b0f1-e712f629e06c",
   "metadata": {},
   "outputs": [],
   "source": [
    "# checking for null values\n",
    "df.isnull().sum()"
   ]
  },
  {
   "cell_type": "code",
   "execution_count": null,
   "id": "8162089b-37b9-43ec-8eb9-8b56715f4daf",
   "metadata": {},
   "outputs": [],
   "source": [
    "# drop null values for these two columns\n",
    "df.dropna(subset=['admission_date', 'discharge_date'], inplace=True)"
   ]
  },
  {
   "cell_type": "code",
   "execution_count": null,
   "id": "985f8396-ee53-4521-934b-8b8f7c2cc519",
   "metadata": {},
   "outputs": [],
   "source": [
    "# reset the index after dropping the null values\n",
    "df.reset_index(drop=True)"
   ]
  },
  {
   "cell_type": "code",
   "execution_count": null,
   "id": "7c1d284f-14ab-4162-aa85-f9a823169925",
   "metadata": {},
   "outputs": [],
   "source": [
    "# convert date column from object to date data type\n",
    "df['admission_date'] = pd.to_datetime(df['admission_date'])\n",
    "df['discharge_date'] = pd.to_datetime(df['discharge_date'])"
   ]
  },
  {
   "cell_type": "code",
   "execution_count": null,
   "id": "3a780dd0-eb4b-4806-adec-61ea65dc0980",
   "metadata": {},
   "outputs": [],
   "source": [
    "# create new column admission days (the number of days between a patient first day of admission and the discharge day)\n",
    "df[\"admission_days\"]  = (df['discharge_date'] - df['admission_date']).dt.days"
   ]
  },
  {
   "cell_type": "code",
   "execution_count": null,
   "id": "b2775e63",
   "metadata": {},
   "outputs": [],
   "source": [
    "# the bill amount has only plain numbers without spaces or commas, these code cleans the cells with commas to make them uniform\n",
    "df['bill_amount'] = df['bill_amount'].str.replace(r'[^a-zA-Z0-9]', '', regex=True)"
   ]
  },
  {
   "cell_type": "code",
   "execution_count": null,
   "id": "40807f47",
   "metadata": {},
   "outputs": [],
   "source": [
    "# convert the bill amount to int64 since it was in object data type\n",
    "df['bill_amount'] = df['bill_amount'].astype('Int64')"
   ]
  },
  {
   "cell_type": "code",
   "execution_count": null,
   "id": "b68a84a6",
   "metadata": {},
   "outputs": [],
   "source": [
    "# dealing with the NaN values in the insurance column\n",
    "# replace them with 'Unknown'\n",
    "df['insurance'] = df['insurance'].fillna('Unknown')"
   ]
  },
  {
   "cell_type": "code",
   "execution_count": null,
   "id": "065ca882",
   "metadata": {},
   "outputs": [],
   "source": [
    "# a function that capitalizes the first letter of each value for all string columns and strips off white spaces\n",
    "def clean_string_columns(df):\n",
    "    str_cols = df.select_dtypes(include='object').columns\n",
    "    for col in str_cols:\n",
    "        df[col] = df[col].astype(str).str.strip().str.title()\n",
    "    return df\n",
    "\n",
    "# Usage:\n",
    "df = clean_string_columns(df) "
   ]
  },
  {
   "cell_type": "code",
   "execution_count": null,
   "id": "32df5763",
   "metadata": {},
   "outputs": [],
   "source": [
    "# resets the index of the dataframe inplace\n",
    "df.reset_index(drop=True, inplace= True)"
   ]
  },
  {
   "cell_type": "markdown",
   "id": "84586f96",
   "metadata": {},
   "source": [
    "Null values in the bill amount column"
   ]
  },
  {
   "cell_type": "code",
   "execution_count": null,
   "id": "9ca5afe4",
   "metadata": {},
   "outputs": [],
   "source": [
    "df['bill_amount'].describe()"
   ]
  },
  {
   "cell_type": "code",
   "execution_count": null,
   "id": "dc6bb98c",
   "metadata": {},
   "outputs": [],
   "source": [
    "# average bill amount for each diagnosis category\n",
    "avg_bill_amount = df.groupby('diagnosis')['bill_amount'].mean().round(3)\n",
    "avg_bill_amount"
   ]
  },
  {
   "cell_type": "code",
   "execution_count": null,
   "id": "4c60184e",
   "metadata": {},
   "outputs": [],
   "source": [
    "# replace null values in the bill amount column with average bill amounts for each diagnosis category \n",
    "# we want to fill each NaN in bill_amount with the correct group average (aligned perfectly by index) so we use transform('mean')\n",
    "def replace_null_values(df):\n",
    "    group_avg = df.groupby('diagnosis')['bill_amount'].transform('mean').round().astype(int)\n",
    "\n",
    "    df['bill_amount'] = df['bill_amount'].fillna(group_avg)\n",
    "    return df\n",
    "\n",
    "# Apply the function to replace null values in 'bill_amount'\n",
    "df = replace_null_values(df)"
   ]
  },
  {
   "cell_type": "markdown",
   "id": "1e2bfe7a",
   "metadata": {},
   "source": [
    "Final cleaned Dataset "
   ]
  },
  {
   "cell_type": "code",
   "execution_count": null,
   "id": "deb0fdf4",
   "metadata": {},
   "outputs": [],
   "source": [
    "df.info()"
   ]
  },
  {
   "cell_type": "code",
   "execution_count": null,
   "id": "54438694",
   "metadata": {},
   "outputs": [],
   "source": [
    "df"
   ]
  },
  {
   "cell_type": "markdown",
   "id": "9a58de36",
   "metadata": {},
   "source": [
    "Creating Bins for Age column"
   ]
  },
  {
   "cell_type": "code",
   "execution_count": null,
   "id": "2dcf73d2",
   "metadata": {},
   "outputs": [],
   "source": [
    "# working with age\n",
    "df['age'].describe()"
   ]
  },
  {
   "cell_type": "code",
   "execution_count": null,
   "id": "c1f4997d",
   "metadata": {},
   "outputs": [],
   "source": [
    "# use a function that creats bins for age aggregation\n",
    "def age_group(age):\n",
    "    if age <= 30:\n",
    "        return \"Youth (≤30)\"\n",
    "    elif age <= 45:\n",
    "        return \"Young Adult (31-45)\"\n",
    "    elif age <= 60:\n",
    "        return \"Middle Age (46-60)\"\n",
    "    else:\n",
    "        return \"Senior (61+)\""
   ]
  },
  {
   "cell_type": "code",
   "execution_count": null,
   "id": "7208fdf1",
   "metadata": {},
   "outputs": [],
   "source": [
    "df['Age_group'] = df['age'].apply(age_group)"
   ]
  },
  {
   "cell_type": "code",
   "execution_count": null,
   "id": "f832d3e4",
   "metadata": {},
   "outputs": [],
   "source": [
    "#mean value for diagnosis category Asthma is 295595.857 ~ 295596\n",
    "# checking if that mean value was replaced for a NaN value\n",
    "\n",
    "df[(df['bill_amount'] == 295596) & (df['diagnosis'] == 'Asthma')]"
   ]
  },
  {
   "cell_type": "markdown",
   "id": "ea6f3f0d-6231-44ee-96db-55e0d7b7a5d1",
   "metadata": {},
   "source": [
    "## Simple analysis"
   ]
  },
  {
   "cell_type": "code",
   "execution_count": 75,
   "id": "54bb96fc",
   "metadata": {},
   "outputs": [
    {
     "data": {
      "text/plain": [
       "Timestamp('2024-07-31 00:00:00')"
      ]
     },
     "metadata": {},
     "output_type": "display_data"
    },
    {
     "data": {
      "text/plain": [
       "Timestamp('2024-06-02 00:00:00')"
      ]
     },
     "metadata": {},
     "output_type": "display_data"
    }
   ],
   "source": [
    "# period of data collection \n",
    "display(df['admission_date'].max(), df['admission_date'].min())"
   ]
  },
  {
   "cell_type": "markdown",
   "id": "e3ec2924",
   "metadata": {},
   "source": [
    "##### *Readmission analysis*"
   ]
  },
  {
   "cell_type": "code",
   "execution_count": 124,
   "id": "3d8445a8-a63e-406c-8424-2326b47030f0",
   "metadata": {},
   "outputs": [
    {
     "data": {
      "text/plain": [
       "readmitted\n",
       "No     53.4\n",
       "Yes    46.6\n",
       "Name: proportion, dtype: float64"
      ]
     },
     "execution_count": 124,
     "metadata": {},
     "output_type": "execute_result"
    }
   ],
   "source": [
    "(df[\"readmitted\"].value_counts(normalize=True) * 100).round(1) # 47% out of all patients admitted are readmitted"
   ]
  },
  {
   "cell_type": "markdown",
   "id": "9eaeabd0-c347-4eb4-8cb4-d9d020afc3ab",
   "metadata": {},
   "source": [
    "Average stay in the hospital"
   ]
  },
  {
   "cell_type": "code",
   "execution_count": 125,
   "id": "51406df2-1348-43be-85ad-7708c77a47c8",
   "metadata": {},
   "outputs": [
    {
     "data": {
      "text/plain": [
       "readmitted\n",
       "No     8.2\n",
       "Yes    9.8\n",
       "Name: admission_days, dtype: float64"
      ]
     },
     "execution_count": 125,
     "metadata": {},
     "output_type": "execute_result"
    }
   ],
   "source": [
    "df.groupby(\"readmitted\")[\"admission_days\"].mean().round(1)"
   ]
  },
  {
   "cell_type": "markdown",
   "id": "c4e532d8-51a1-4b1f-b645-a16d5ad54eab",
   "metadata": {},
   "source": [
    "By Diagnosis"
   ]
  },
  {
   "cell_type": "code",
   "execution_count": 85,
   "id": "8266f7a9",
   "metadata": {},
   "outputs": [
    {
     "data": {
      "text/html": [
       "<div>\n",
       "<style scoped>\n",
       "    .dataframe tbody tr th:only-of-type {\n",
       "        vertical-align: middle;\n",
       "    }\n",
       "\n",
       "    .dataframe tbody tr th {\n",
       "        vertical-align: top;\n",
       "    }\n",
       "\n",
       "    .dataframe thead th {\n",
       "        text-align: right;\n",
       "    }\n",
       "</style>\n",
       "<table border=\"1\" class=\"dataframe\">\n",
       "  <thead>\n",
       "    <tr style=\"text-align: right;\">\n",
       "      <th>readmitted</th>\n",
       "      <th>No</th>\n",
       "      <th>Yes</th>\n",
       "    </tr>\n",
       "    <tr>\n",
       "      <th>diagnosis</th>\n",
       "      <th></th>\n",
       "      <th></th>\n",
       "    </tr>\n",
       "  </thead>\n",
       "  <tbody>\n",
       "    <tr>\n",
       "      <th>Hypertension</th>\n",
       "      <td>11.0</td>\n",
       "      <td>89.0</td>\n",
       "    </tr>\n",
       "    <tr>\n",
       "      <th>Diabetes</th>\n",
       "      <td>56.0</td>\n",
       "      <td>44.0</td>\n",
       "    </tr>\n",
       "    <tr>\n",
       "      <th>Cancer</th>\n",
       "      <td>58.0</td>\n",
       "      <td>42.0</td>\n",
       "    </tr>\n",
       "    <tr>\n",
       "      <th>Asthma</th>\n",
       "      <td>71.0</td>\n",
       "      <td>29.0</td>\n",
       "    </tr>\n",
       "    <tr>\n",
       "      <th>Fracture</th>\n",
       "      <td>71.0</td>\n",
       "      <td>29.0</td>\n",
       "    </tr>\n",
       "  </tbody>\n",
       "</table>\n",
       "</div>"
      ],
      "text/plain": [
       "readmitted      No   Yes\n",
       "diagnosis               \n",
       "Hypertension  11.0  89.0\n",
       "Diabetes      56.0  44.0\n",
       "Cancer        58.0  42.0\n",
       "Asthma        71.0  29.0\n",
       "Fracture      71.0  29.0"
      ]
     },
     "execution_count": 85,
     "metadata": {},
     "output_type": "execute_result"
    }
   ],
   "source": [
    "# readmission rates by diagnosis type\n",
    "(((df.groupby('diagnosis')['readmitted'].value_counts(normalize= True).unstack()) * 100).round()).sort_values(by= 'Yes', ascending= False)"
   ]
  },
  {
   "cell_type": "markdown",
   "id": "6fcc9960",
   "metadata": {},
   "source": [
    "By Department"
   ]
  },
  {
   "cell_type": "code",
   "execution_count": 84,
   "id": "5ffa79dc",
   "metadata": {},
   "outputs": [
    {
     "data": {
      "text/html": [
       "<div>\n",
       "<style scoped>\n",
       "    .dataframe tbody tr th:only-of-type {\n",
       "        vertical-align: middle;\n",
       "    }\n",
       "\n",
       "    .dataframe tbody tr th {\n",
       "        vertical-align: top;\n",
       "    }\n",
       "\n",
       "    .dataframe thead th {\n",
       "        text-align: right;\n",
       "    }\n",
       "</style>\n",
       "<table border=\"1\" class=\"dataframe\">\n",
       "  <thead>\n",
       "    <tr style=\"text-align: right;\">\n",
       "      <th>readmitted</th>\n",
       "      <th>No</th>\n",
       "      <th>Yes</th>\n",
       "    </tr>\n",
       "    <tr>\n",
       "      <th>department</th>\n",
       "      <th></th>\n",
       "      <th></th>\n",
       "    </tr>\n",
       "  </thead>\n",
       "  <tbody>\n",
       "    <tr>\n",
       "      <th>Neurology</th>\n",
       "      <td>43.0</td>\n",
       "      <td>57.0</td>\n",
       "    </tr>\n",
       "    <tr>\n",
       "      <th>Cardiology</th>\n",
       "      <td>46.0</td>\n",
       "      <td>54.0</td>\n",
       "    </tr>\n",
       "    <tr>\n",
       "      <th>Oncology</th>\n",
       "      <td>54.0</td>\n",
       "      <td>46.0</td>\n",
       "    </tr>\n",
       "    <tr>\n",
       "      <th>Orthopedics</th>\n",
       "      <td>54.0</td>\n",
       "      <td>46.0</td>\n",
       "    </tr>\n",
       "    <tr>\n",
       "      <th>Pediatrics</th>\n",
       "      <td>67.0</td>\n",
       "      <td>33.0</td>\n",
       "    </tr>\n",
       "  </tbody>\n",
       "</table>\n",
       "</div>"
      ],
      "text/plain": [
       "readmitted     No   Yes\n",
       "department             \n",
       "Neurology    43.0  57.0\n",
       "Cardiology   46.0  54.0\n",
       "Oncology     54.0  46.0\n",
       "Orthopedics  54.0  46.0\n",
       "Pediatrics   67.0  33.0"
      ]
     },
     "execution_count": 84,
     "metadata": {},
     "output_type": "execute_result"
    }
   ],
   "source": [
    "# readmission rates by department\n",
    "(((df.groupby('department')['readmitted'].value_counts(normalize= True).unstack()) * 100).round()).sort_values(by = 'Yes', ascending= False)"
   ]
  },
  {
   "cell_type": "markdown",
   "id": "3b3e7ee1",
   "metadata": {},
   "source": [
    "By Gender"
   ]
  },
  {
   "cell_type": "code",
   "execution_count": 96,
   "id": "64c0aeda",
   "metadata": {},
   "outputs": [
    {
     "data": {
      "text/html": [
       "<div>\n",
       "<style scoped>\n",
       "    .dataframe tbody tr th:only-of-type {\n",
       "        vertical-align: middle;\n",
       "    }\n",
       "\n",
       "    .dataframe tbody tr th {\n",
       "        vertical-align: top;\n",
       "    }\n",
       "\n",
       "    .dataframe thead th {\n",
       "        text-align: right;\n",
       "    }\n",
       "</style>\n",
       "<table border=\"1\" class=\"dataframe\">\n",
       "  <thead>\n",
       "    <tr style=\"text-align: right;\">\n",
       "      <th>readmitted</th>\n",
       "      <th>No</th>\n",
       "      <th>Yes</th>\n",
       "    </tr>\n",
       "    <tr>\n",
       "      <th>gender</th>\n",
       "      <th></th>\n",
       "      <th></th>\n",
       "    </tr>\n",
       "  </thead>\n",
       "  <tbody>\n",
       "    <tr>\n",
       "      <th>Male</th>\n",
       "      <td>48.0</td>\n",
       "      <td>52.0</td>\n",
       "    </tr>\n",
       "    <tr>\n",
       "      <th>Female</th>\n",
       "      <td>59.0</td>\n",
       "      <td>41.0</td>\n",
       "    </tr>\n",
       "  </tbody>\n",
       "</table>\n",
       "</div>"
      ],
      "text/plain": [
       "readmitted    No   Yes\n",
       "gender                \n",
       "Male        48.0  52.0\n",
       "Female      59.0  41.0"
      ]
     },
     "execution_count": 96,
     "metadata": {},
     "output_type": "execute_result"
    }
   ],
   "source": [
    "(((df.groupby('gender')['readmitted'].value_counts(normalize= True).unstack())* 100).round()).sort_values(by = 'Yes', ascending= False)"
   ]
  },
  {
   "cell_type": "markdown",
   "id": "b8378ecc",
   "metadata": {},
   "source": [
    "By Age"
   ]
  },
  {
   "cell_type": "code",
   "execution_count": 104,
   "id": "8ae8bc4d",
   "metadata": {},
   "outputs": [
    {
     "data": {
      "text/html": [
       "<div>\n",
       "<style scoped>\n",
       "    .dataframe tbody tr th:only-of-type {\n",
       "        vertical-align: middle;\n",
       "    }\n",
       "\n",
       "    .dataframe tbody tr th {\n",
       "        vertical-align: top;\n",
       "    }\n",
       "\n",
       "    .dataframe thead th {\n",
       "        text-align: right;\n",
       "    }\n",
       "</style>\n",
       "<table border=\"1\" class=\"dataframe\">\n",
       "  <thead>\n",
       "    <tr style=\"text-align: right;\">\n",
       "      <th>readmitted</th>\n",
       "      <th>No</th>\n",
       "      <th>Yes</th>\n",
       "    </tr>\n",
       "    <tr>\n",
       "      <th>Age_group</th>\n",
       "      <th></th>\n",
       "      <th></th>\n",
       "    </tr>\n",
       "  </thead>\n",
       "  <tbody>\n",
       "    <tr>\n",
       "      <th>Young Adult (31-45)</th>\n",
       "      <td>27.0</td>\n",
       "      <td>73.0</td>\n",
       "    </tr>\n",
       "    <tr>\n",
       "      <th>Youth (≤30)</th>\n",
       "      <td>36.0</td>\n",
       "      <td>64.0</td>\n",
       "    </tr>\n",
       "    <tr>\n",
       "      <th>Middle Age (46-60)</th>\n",
       "      <td>50.0</td>\n",
       "      <td>50.0</td>\n",
       "    </tr>\n",
       "    <tr>\n",
       "      <th>Senior (61+)</th>\n",
       "      <td>76.0</td>\n",
       "      <td>24.0</td>\n",
       "    </tr>\n",
       "  </tbody>\n",
       "</table>\n",
       "</div>"
      ],
      "text/plain": [
       "readmitted             No   Yes\n",
       "Age_group                      \n",
       "Young Adult (31-45)  27.0  73.0\n",
       "Youth (≤30)          36.0  64.0\n",
       "Middle Age (46-60)   50.0  50.0\n",
       "Senior (61+)         76.0  24.0"
      ]
     },
     "execution_count": 104,
     "metadata": {},
     "output_type": "execute_result"
    }
   ],
   "source": [
    "(((df.groupby('Age_group')['readmitted'].value_counts(normalize= True).unstack())* 100).round()).sort_values(by = 'Yes', ascending= False)"
   ]
  },
  {
   "cell_type": "markdown",
   "id": "036053fc",
   "metadata": {},
   "source": [
    "By Doctors"
   ]
  },
  {
   "cell_type": "code",
   "execution_count": 101,
   "id": "bdec621c",
   "metadata": {},
   "outputs": [
    {
     "data": {
      "text/html": [
       "<div>\n",
       "<style scoped>\n",
       "    .dataframe tbody tr th:only-of-type {\n",
       "        vertical-align: middle;\n",
       "    }\n",
       "\n",
       "    .dataframe tbody tr th {\n",
       "        vertical-align: top;\n",
       "    }\n",
       "\n",
       "    .dataframe thead th {\n",
       "        text-align: right;\n",
       "    }\n",
       "</style>\n",
       "<table border=\"1\" class=\"dataframe\">\n",
       "  <thead>\n",
       "    <tr style=\"text-align: right;\">\n",
       "      <th>readmitted</th>\n",
       "      <th>No</th>\n",
       "      <th>Yes</th>\n",
       "    </tr>\n",
       "    <tr>\n",
       "      <th>doctor</th>\n",
       "      <th></th>\n",
       "      <th></th>\n",
       "    </tr>\n",
       "  </thead>\n",
       "  <tbody>\n",
       "    <tr>\n",
       "      <th>Dr. Bello</th>\n",
       "      <td>27.0</td>\n",
       "      <td>73.0</td>\n",
       "    </tr>\n",
       "    <tr>\n",
       "      <th>Dr. Smith</th>\n",
       "      <td>46.0</td>\n",
       "      <td>54.0</td>\n",
       "    </tr>\n",
       "    <tr>\n",
       "      <th>Dr. Musa</th>\n",
       "      <td>54.0</td>\n",
       "      <td>46.0</td>\n",
       "    </tr>\n",
       "    <tr>\n",
       "      <th>Dr. Adams</th>\n",
       "      <td>55.0</td>\n",
       "      <td>45.0</td>\n",
       "    </tr>\n",
       "    <tr>\n",
       "      <th>Dr. Okeke</th>\n",
       "      <td>90.0</td>\n",
       "      <td>10.0</td>\n",
       "    </tr>\n",
       "  </tbody>\n",
       "</table>\n",
       "</div>"
      ],
      "text/plain": [
       "readmitted    No   Yes\n",
       "doctor                \n",
       "Dr. Bello   27.0  73.0\n",
       "Dr. Smith   46.0  54.0\n",
       "Dr. Musa    54.0  46.0\n",
       "Dr. Adams   55.0  45.0\n",
       "Dr. Okeke   90.0  10.0"
      ]
     },
     "execution_count": 101,
     "metadata": {},
     "output_type": "execute_result"
    }
   ],
   "source": [
    "(((df.groupby('doctor')['readmitted'].value_counts(normalize= True).unstack())* 100).round()).sort_values(by = 'Yes', ascending= False)"
   ]
  },
  {
   "cell_type": "markdown",
   "id": "72286906",
   "metadata": {},
   "source": [
    "By City(cities with most readmissions)"
   ]
  },
  {
   "cell_type": "code",
   "execution_count": 119,
   "id": "bc0c9799",
   "metadata": {},
   "outputs": [
    {
     "data": {
      "text/html": [
       "<div>\n",
       "<style scoped>\n",
       "    .dataframe tbody tr th:only-of-type {\n",
       "        vertical-align: middle;\n",
       "    }\n",
       "\n",
       "    .dataframe tbody tr th {\n",
       "        vertical-align: top;\n",
       "    }\n",
       "\n",
       "    .dataframe thead th {\n",
       "        text-align: right;\n",
       "    }\n",
       "</style>\n",
       "<table border=\"1\" class=\"dataframe\">\n",
       "  <thead>\n",
       "    <tr style=\"text-align: right;\">\n",
       "      <th>readmitted</th>\n",
       "      <th>No</th>\n",
       "      <th>Yes</th>\n",
       "    </tr>\n",
       "    <tr>\n",
       "      <th>city</th>\n",
       "      <th></th>\n",
       "      <th></th>\n",
       "    </tr>\n",
       "  </thead>\n",
       "  <tbody>\n",
       "    <tr>\n",
       "      <th>Enugu</th>\n",
       "      <td>43.0</td>\n",
       "      <td>57.0</td>\n",
       "    </tr>\n",
       "    <tr>\n",
       "      <th>Kano</th>\n",
       "      <td>50.0</td>\n",
       "      <td>50.0</td>\n",
       "    </tr>\n",
       "    <tr>\n",
       "      <th>Lagos</th>\n",
       "      <td>50.0</td>\n",
       "      <td>50.0</td>\n",
       "    </tr>\n",
       "    <tr>\n",
       "      <th>Abuja</th>\n",
       "      <td>60.0</td>\n",
       "      <td>40.0</td>\n",
       "    </tr>\n",
       "    <tr>\n",
       "      <th>Port Harcourt</th>\n",
       "      <td>60.0</td>\n",
       "      <td>40.0</td>\n",
       "    </tr>\n",
       "  </tbody>\n",
       "</table>\n",
       "</div>"
      ],
      "text/plain": [
       "readmitted       No   Yes\n",
       "city                     \n",
       "Enugu          43.0  57.0\n",
       "Kano           50.0  50.0\n",
       "Lagos          50.0  50.0\n",
       "Abuja          60.0  40.0\n",
       "Port Harcourt  60.0  40.0"
      ]
     },
     "execution_count": 119,
     "metadata": {},
     "output_type": "execute_result"
    }
   ],
   "source": [
    "(((df.groupby('city')['readmitted'].value_counts(normalize= True).unstack()) * 100).round()).sort_values(by = 'Yes', ascending= False)"
   ]
  },
  {
   "cell_type": "markdown",
   "id": "548ef0fe-2a58-40f4-b01a-06d3d963b01d",
   "metadata": {},
   "source": [
    "## 📊 Insights from the Analysis\n",
    "\n",
    "### Data collection timeframe: \n",
    " - **2nd June 2024** to **31st July 2024** according to the admission date column\n",
    "\n",
    "### 1. Overall Readmission Rate\n",
    "- **46.6% of patients were readmitted**.\n",
    "- That’s nearly half — a significant challenge for the hospital.\n",
    "\n",
    "### 2. Length of Stay\n",
    "- Readmitted patients stayed **longer on average (≈9.8 days)** compared to those not readmitted (≈8.2 days).\n",
    "- Longer initial stays may indicate more severe conditions or complications or gaps in the quality of care that extend recovery time.\n",
    "\n",
    "### 3. By Diagnosis\n",
    "- **Hypertension**: extremely high readmission at **89%** — an urgent red flag.\n",
    "- **Diabetes (44%)** and **Cancer (42%)** patients also face moderate readmission risk.\n",
    "- **Asthma (29%)** and **Fracture (29%)** have the lowest readmission rates.\n",
    "\n",
    "### 4. By Department\n",
    "- **Neurology (57%)** and **Cardiology (54%)** have the highest readmission rates.\n",
    "- **Oncology (46%)** and **Orthopedics (46%)** are more balanced.\n",
    "- **Pediatrics (33%)** has the lowest readmission rate.\n",
    "\n",
    "### 5. By Gender \n",
    "- **Male (52%)** have the highest rates of readmission.\n",
    "- **Females** have a reasmission rate of **(41%)**. \n",
    "\n",
    "### 6. By Age Group\n",
    "- **Young Adults (31–45)**: highest at **73% readmission**.\n",
    "- **Youth (≤30)**: **64% readmitted**.\n",
    "- **Middle Age (46–60)**: balanced at **50%**.\n",
    "- **Seniors (61+)**: lowest at **24%**, which is unusual and may reflect sample size or mortality bias.\n",
    "\n",
    "### 7. By Doctors\n",
    "- **Dr. Bello** has the highest rates of readmission at **73%** which may represent a higher proportion of complex cases under **Dr. Bello’s** care.\n",
    "- **Dr. Smith** has a readmission rate of **54%**.\n",
    "- **Dr. Musa** has a readmission rate of **46%** followed by **Dr. Adams** with a rate of **45%**.\n",
    "- **Dr. Okeke** has the lowest admission rate at **10%**.\n",
    "\n",
    "### 8. By Cities\n",
    "- **Enugu**  has a high readmission rate at **57%**.\n",
    "- Followed by **Kano** and **Lagos** at **50%**.\n",
    "- **Abuja** and **Port Harcourt** have the least radmission rate at **40%**.\n",
    "---\n",
    "\n",
    "## 💡 Recommendations\n",
    "\n",
    "1. **Focus on chronic conditions**: Provide better follow-up and treatment plans for Hypertension and Diabetes patients.\n",
    "2. **Departmental reviews**: Cardiology and Neurology should strengthen discharge planning and patient education.\n",
    "3. **Age-specific interventions**: Target young and middle-aged adults with lifestyle and adherence programs.\n",
    "4. **Doctor Support**: Provide targeted support and professional development focusing on discharge planning, follow-up care, and management of complex cases.\n",
    "5. **Cities Reviews**: Strengthen hospital resources and ensure patient follow-up in Enugu, Kano, Lagos to reduce preventable readmissions.\n",
    "5. **Support for long-stay patients**: Provide additional discharge checks and care plans to reduce bounce-back readmissions.\n"
   ]
  }
 ],
 "metadata": {
  "kernelspec": {
   "display_name": "Python 3",
   "language": "python",
   "name": "python3"
  },
  "language_info": {
   "codemirror_mode": {
    "name": "ipython",
    "version": 3
   },
   "file_extension": ".py",
   "mimetype": "text/x-python",
   "name": "python",
   "nbconvert_exporter": "python",
   "pygments_lexer": "ipython3",
   "version": "3.10.11"
  }
 },
 "nbformat": 4,
 "nbformat_minor": 5
}
